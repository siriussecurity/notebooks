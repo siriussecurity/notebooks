{
  "cells": [
    {
      "cell_type": "markdown",
      "source": [
        "## Imports and globals"
      ],
      "metadata": {
        "nteract": {
          "transient": {
            "deleting": false
          }
        }
      }
    },
    {
      "cell_type": "code",
      "source": [
        "from typing import Any, Dict, List, Tuple, Union, Optional\r\n",
        "from msticpy.data.drivers.driver_base import DriverBase, QuerySource\r\n",
        "from msticpy.common import pkg_config as config\r\n",
        "from msticpy.common.exceptions import MsticpyException\r\n",
        "from msticpy._version import VERSION\r\n",
        "from msal import PublicClientApplication\r\n",
        "\r\n",
        "import pandas as pd\r\n",
        "import base64\r\n",
        "import re\r\n",
        "import json\r\n",
        "import requests\r\n",
        "import datetime\r\n",
        "\r\n",
        "__version__ = VERSION\r\n",
        "__author__ = \"Martijn Veken, Ruben Bouman\""
      ],
      "outputs": [],
      "execution_count": null,
      "metadata": {
        "collapsed": true,
        "jupyter": {
          "source_hidden": false,
          "outputs_hidden": false
        },
        "nteract": {
          "transient": {
            "deleting": false
          }
        },
        "gather": {
          "logged": 1619701744584
        }
      }
    },
    {
      "cell_type": "markdown",
      "source": [
        "## MTP data driver"
      ],
      "metadata": {
        "nteract": {
          "transient": {
            "deleting": false
          }
        }
      }
    },
    {
      "cell_type": "code",
      "source": [
        "class MTPDriver(DriverBase):\r\n",
        "    \"\"\"\r\n",
        "        KqlDriver class to retreive data from MTP.\r\n",
        "\r\n",
        "        Authentication for MTP API is based on \"delegated permissions\". The advantage of this is that no API keys need to be saved somewhere, \r\n",
        "        but it's the user who interactively logs on (including MFA when configured).\r\n",
        "\r\n",
        "        API limitations:\r\n",
        "        MTP API is limiting query results to 100.000 rows per time. It's also has a limit of 10 calls per minute, 10 minutes of running time \r\n",
        "        every hour and 4 hours of running time a day. The maximal execution time of a single request is 10 minutes. Read more on:\r\n",
        "\r\n",
        "        https://docs.microsoft.com/en-gb/microsoft-365/security/mtp/api-advanced-hunting\r\n",
        "    \"\"\"\r\n",
        "\r\n",
        "    def __init__(self, **kwargs):\r\n",
        "        \"\"\"\r\n",
        "        Instantiaite MTPDriver and optionally connect.\r\n",
        "        Parameters\r\n",
        "        ----------\r\n",
        "        connect: bool, optional\r\n",
        "            Set true if you want to connect to the provider at initialization\r\n",
        "        \"\"\"\r\n",
        "        super().__init__()\r\n",
        "        self._access_token = None\r\n",
        "        self._debug = kwargs.get(\"debug\", False)\r\n",
        "\r\n",
        "    def connect(self, connection_str: str = None, **kwargs):\r\n",
        "        \"\"\"\r\n",
        "        Connect to data source.\r\n",
        "        Parameters\r\n",
        "        ----------\r\n",
        "        connection_str: str, optional\r\n",
        "            Connect to a data source, not used in this driver\r\n",
        "        \"\"\"\r\n",
        "        app_id = None\r\n",
        "        tenant_id = None\r\n",
        "        logon_result = None\r\n",
        "        endpoint = 'https://api.security.microsoft.com'\r\n",
        "        scope = endpoint + '/.default'\r\n",
        "\r\n",
        "        if kwargs:\r\n",
        "            cs_dict = kwargs\r\n",
        "            app_id =  cs_dict[\"app_id\"] if \"app_id\" in cs_dict else None\r\n",
        "            tenant_id = cs_dict[\"tenant_id\"] if \"tenant_id\" in cs_dict else None\r\n",
        "\r\n",
        "        if not (app_id and tenant_id):\r\n",
        "            raise MsticpyException(\"Missing parameters.\")\r\n",
        "\r\n",
        "        app = PublicClientApplication(\r\n",
        "            app_id,\r\n",
        "            authority='https://login.microsoftonline.com/' + tenant_id)\r\n",
        "\r\n",
        "        config = {\r\n",
        "            'authority': 'https://login.microsoftonline.com/common',\r\n",
        "            'client_id': app_id,\r\n",
        "            'scope': [scope],\r\n",
        "            'endpoint': endpoint\r\n",
        "        }\r\n",
        "\r\n",
        "        # First check if there's a token in the cache:\r\n",
        "        accounts = app.get_accounts()\r\n",
        "        if accounts:\r\n",
        "            account = accounts[0]\r\n",
        "            logon_result = app.acquire_token_silent([scope], account=account)\r\n",
        "            print('Re-using token from cache.\\n')\r\n",
        "\r\n",
        "        if not logon_result:\r\n",
        "            # Nothing in cache, so get a new token:\r\n",
        "            flow = app.initiate_device_flow(scopes=config['scope'])\r\n",
        "            if 'user_code' not in flow:\r\n",
        "                raise MsticpyException('Fail to create device flow. Err: %s' % json.dumps(flow, indent=4))\r\n",
        "\r\n",
        "            print(flow['message'])\r\n",
        "            print('Waiting for authentication...\\n')\r\n",
        "            logon_result = app.acquire_token_by_device_flow(flow)\r\n",
        "\r\n",
        "        if 'access_token' in logon_result:\r\n",
        "            logon_info = json.loads(str(self._decode_base64(logon_result['access_token'].split('.')[1]))[2:-1])\r\n",
        "            print('You are succesfully logged in: ')\r\n",
        "            print('Name: %s %s' % (logon_info['given_name'], logon_info['family_name']))\r\n",
        "            print('UPN:  %s' % logon_info['upn'])\r\n",
        "            print('Token expiration: %s ' % datetime.datetime.fromtimestamp(logon_info['exp']).isoformat())\r\n",
        "            self._access_token = logon_result[\"access_token\"]\r\n",
        "            self._connected = True\r\n",
        "            logon_result[\"access_token\"] = None\r\n",
        "            return logon_result\r\n",
        "        else:\r\n",
        "            raise MsticpyException(\"%s, %s, %s\" % (logon_result.get(\"error\"), logon_result.get(\"error_description\"), logon_result.get(\"correlation_id\")))\r\n",
        "\r\n",
        "    def query_with_results(self, query: str, **kwargs) -> Tuple[pd.DataFrame, Any]:  \r\n",
        "        \"\"\"\r\n",
        "        Execute query string and return DataFrame of results.\r\n",
        "        Parameters\r\n",
        "        ----------\r\n",
        "        query : str\r\n",
        "            The kql query to execute\r\n",
        "        Returns\r\n",
        "        -------\r\n",
        "        Tuple[pd.DataFrame, results.ResultSet]\r\n",
        "            A DataFrame (if successfull) and\r\n",
        "            Kql ResultSet.\r\n",
        "        \"\"\"\r\n",
        "        \r\n",
        "        if not self.connected or self._access_token is None: \r\n",
        "            self.connect(self.current_connection)\r\n",
        "            if not self.connected:\r\n",
        "                raise ConnectionError(\"Source is not connected. \", \"Please call connect() and retry.\")\r\n",
        "\r\n",
        "        if self._debug:\r\n",
        "            print(query)\r\n",
        "        \r\n",
        "        url = 'https://api.security.microsoft.com/api/advancedhunting/run'\r\n",
        "        headers = { \r\n",
        "            'Content-Type' : 'application/json',\r\n",
        "            'Accept' : 'application/json',\r\n",
        "            'Authorization' : \"Bearer \" + self._access_token\r\n",
        "        }\r\n",
        "\r\n",
        "        data = json.dumps({ 'Query' : query }).encode(\"utf-8\")\r\n",
        "\r\n",
        "        response = requests.post(url=url, headers=headers, data=data)\r\n",
        "\r\n",
        "        if response.status_code != requests.codes[\"ok\"]:\r\n",
        "            if response.status_code == 401:\r\n",
        "                raise ConnectionRefusedError(\r\n",
        "                    \"Authentication failed - possible \", \"timeout. Please re-connect.\"\r\n",
        "                )\r\n",
        "            # Raise an exception to handle hitting API limits\r\n",
        "            if response.status_code == 429:\r\n",
        "                raise ConnectionRefusedError(\"You have likely hit the API limit. \")\r\n",
        "            response.raise_for_status()\r\n",
        "\r\n",
        "        json_response = response.json()\r\n",
        "\r\n",
        "        if \"Results\" in json_response:\r\n",
        "            result = json_response[\"Results\"]\r\n",
        "        else:\r\n",
        "            result = None\r\n",
        "\r\n",
        "        if not result:\r\n",
        "            print(\"Warning - query did not return any results.\")\r\n",
        "            return None, json_response\r\n",
        "        return pd.io.json.json_normalize(result), result\r\n",
        "\r\n",
        "    def query( self, query: str, query_source: QuerySource = None, **kwargs) -> Union[pd.DataFrame, Any]:\r\n",
        "        \"\"\"\r\n",
        "        Execute query string and return DataFrame of results.\r\n",
        "        Parameters\r\n",
        "        ----------\r\n",
        "        query : str\r\n",
        "            The query to execute\r\n",
        "        query_source : QuerySource\r\n",
        "            The query definition object\r\n",
        "        Returns\r\n",
        "        -------\r\n",
        "        Union[pd.DataFrame, results.ResultSet]\r\n",
        "            A DataFrame (if successfull) or\r\n",
        "            the underlying provider result if an error.\r\n",
        "        \"\"\"\r\n",
        "        del query_source, kwargs\r\n",
        "        return self.query_with_results(query)[0]\r\n",
        "\r\n",
        "    def _decode_base64(self, data, altchars=b'+/'):\r\n",
        "        \"\"\"Decode base64, padding being optional.\r\n",
        "\r\n",
        "        :param data: Base64 data as an ASCII string\r\n",
        "        :returns: The decoded string.\r\n",
        "\r\n",
        "        \"\"\"\r\n",
        "        data = re.sub('[^a-zA-Z0-9%s]+' % altchars, '', data)  # normalize\r\n",
        "        missing_padding = len(data) % 4\r\n",
        "        if missing_padding:\r\n",
        "            data += '='* (4 - missing_padding)\r\n",
        "        return base64.b64decode(data, altchars)\r\n",
        "\r\n"
      ],
      "outputs": [],
      "execution_count": null,
      "metadata": {
        "gather": {
          "logged": 1612963741161
        }
      }
    }
  ],
  "metadata": {
    "kernelspec": {
      "name": "python3-azureml",
      "language": "python",
      "display_name": "Python 3.6 - AzureML"
    },
    "language_info": {
      "name": "python",
      "version": "3.6.9",
      "mimetype": "text/x-python",
      "codemirror_mode": {
        "name": "ipython",
        "version": 3
      },
      "pygments_lexer": "ipython3",
      "nbconvert_exporter": "python",
      "file_extension": ".py"
    },
    "kernel_info": {
      "name": "python3-azureml"
    },
    "nteract": {
      "version": "nteract-front-end@1.0.0"
    },
    "microsoft": {
      "host": {
        "AzureML": {
          "notebookHasBeenCompleted": true
        }
      }
    }
  },
  "nbformat": 4,
  "nbformat_minor": 2
}