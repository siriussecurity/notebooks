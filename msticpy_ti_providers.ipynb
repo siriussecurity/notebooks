{
  "cells": [
    {
      "cell_type": "markdown",
      "source": [
        "## Imports and globals"
      ],
      "metadata": {
        "nteract": {
          "transient": {
            "deleting": false
          }
        }
      }
    },
    {
      "cell_type": "code",
      "source": [
        "from typing import Any, Dict, List, Tuple\r\n",
        "\r\n",
        "from msticpy.sectools.tilookup import TILookup\r\n",
        "from msticpy.sectools.tiproviders.ti_provider_base import LookupResult, TISeverity\r\n",
        "from msticpy.sectools.tiproviders.http_base import HttpProvider, IoCLookupParams\r\n",
        "from msticpy.common.utility import export\r\n",
        "from msticpy._version import VERSION\r\n",
        "\r\n",
        "import time\r\n",
        "\r\n",
        "__version__ = VERSION\r\n",
        "__author__ = \"Martijn Veken\""
      ],
      "outputs": [],
      "execution_count": null,
      "metadata": {
        "collapsed": true,
        "jupyter": {
          "source_hidden": false,
          "outputs_hidden": false
        },
        "nteract": {
          "transient": {
            "deleting": false
          }
        }
      }
    },
    {
      "cell_type": "markdown",
      "source": [
        "## Shodan TI Provider"
      ],
      "metadata": {
        "nteract": {
          "transient": {
            "deleting": false
          }
        }
      }
    },
    {
      "cell_type": "code",
      "source": [
        "\"\"\"\n",
        "Shodan Provider.\n",
        "\n",
        "Input can be a single IoC observable or a pandas DataFrame containing\n",
        "multiple observables. Processing may require a an API key and\n",
        "processing performance may be limited to a specific number of\n",
        "requests per minute for the account type that you have.\n",
        "\n",
        "\"\"\"\n",
        "\n",
        "@export\n",
        "class Shodan(HttpProvider):\n",
        "    \"\"\"Shodan Lookup.\"\"\"\n",
        "\n",
        "    _BASE_URL = \"https://api.shodan.io/\"\n",
        "\n",
        "    _IOC_QUERIES = {\n",
        "        \"ipv4\": IoCLookupParams(path=\"shodan/host/{observable}?key={API_KEY}\"),\n",
        "    }\n",
        "\n",
        "    _REQUIRED_PARAMS = [\"API_KEY\"]\n",
        "\n",
        "    def __init__(self, **kwargs):\n",
        "        \"\"\"Initialize a new instance of the class.\"\"\"\n",
        "        super().__init__(**kwargs)\n",
        "\n",
        "        # Set wait time between API calls to prevent time-outs. \n",
        "        # Default wait is 0.5 which should always work for Shodan\n",
        "        self._sleep_time = kwargs.pop(\"SleepTime\") if \"SleepTime\" in kwargs else 0.5\n",
        "\n",
        "    def parse_results(self, response: LookupResult) -> Tuple[bool, TISeverity, Any]:\n",
        "        \"\"\"\n",
        "        Return the details of the response.\n",
        "\n",
        "        Parameters\n",
        "        ----------\n",
        "        response : LookupResult\n",
        "            The returned data response\n",
        "\n",
        "        Returns\n",
        "        -------\n",
        "        Tuple[bool, TISeverity, Any]\n",
        "            bool = positive or negative hit\n",
        "            TISeverity = enumeration of severity\n",
        "            Object with match details\n",
        "\n",
        "        \"\"\"\n",
        "        if self._failed_response(response) or not isinstance(response.raw_result, dict):\n",
        "            return False, TISeverity.information, \"Not found.\"\n",
        "\n",
        "        # Get most used information from the results for easy reference. This ends up in the Details field.\n",
        "        # Other data is still availabe in the RawResult field.\n",
        "        results_dict = {\n",
        "            \"hostnames\": response.raw_result[\"hostnames\"],\n",
        "            \"org\": response.raw_result[\"org\"],\n",
        "            \"asn\": response.raw_result[\"asn\"],\n",
        "            \"isp\": response.raw_result[\"isp\"],\n",
        "            \"country_code\": response.raw_result[\"country_code\"],\n",
        "            \"ports\": response.raw_result[\"ports\"]\n",
        "        }\n",
        "\n",
        "        # Strip sensitive API key from the reference\n",
        "        response.reference = response.reference.replace(self._request_params[\"API_KEY\"], \"[API_KEY]\")\n",
        "\n",
        "        # Shodan data is informational\n",
        "        severity = TISeverity.information\n",
        "\n",
        "        # Add a small wait time to prevents API time-outs\n",
        "        time.sleep(self._sleep_time)\n",
        "\n",
        "        return True, severity, results_dict"
      ],
      "outputs": [],
      "execution_count": null,
      "metadata": {
        "gather": {
          "logged": 1611829024689
        }
      }
    },
    {
      "cell_type": "markdown",
      "source": [
        "## Functions"
      ],
      "metadata": {
        "nteract": {
          "transient": {
            "deleting": false
          }
        }
      }
    },
    {
      "cell_type": "code",
      "source": [
        "def load_ti_providers(provider_configs):\r\n",
        "    \"\"\"\"\r\n",
        "    Return the default configured TI providers and the extra specified ones.\r\n",
        "\r\n",
        "    Parameters\r\n",
        "    ----------\r\n",
        "    provider_configs: Dict\r\n",
        "        Dictionary containing configuration options for the additional TI providers\r\n",
        "\r\n",
        "    Returns\r\n",
        "    -------\r\n",
        "    TILookup\r\n",
        "        Reference to the TI providers\r\n",
        "    \"\"\"\r\n",
        "    ti_lookup = TILookup()\r\n",
        "\r\n",
        "    if \"Shodan\" in provider_configs:\r\n",
        "        shodan_config = provider_configs[\"Shodan\"]\r\n",
        "        ti_lookup.add_provider(provider=Shodan(AuthKey=shodan_config[\"shodan_api_key\"], SleepTime=shodan_config[\"shodan_sleep_time\"]), name=\"Shodan\", primary=True)\r\n",
        "\r\n",
        "    return ti_lookup"
      ],
      "outputs": [],
      "execution_count": null,
      "metadata": {
        "collapsed": true,
        "jupyter": {
          "source_hidden": false,
          "outputs_hidden": false
        },
        "nteract": {
          "transient": {
            "deleting": false
          }
        },
        "gather": {
          "logged": 1611830352518
        }
      }
    }
  ],
  "metadata": {
    "kernelspec": {
      "name": "python3-azureml",
      "language": "python",
      "display_name": "Python 3.6 - AzureML"
    },
    "language_info": {
      "name": "python",
      "version": "3.6.9",
      "mimetype": "text/x-python",
      "codemirror_mode": {
        "name": "ipython",
        "version": 3
      },
      "pygments_lexer": "ipython3",
      "nbconvert_exporter": "python",
      "file_extension": ".py"
    },
    "kernel_info": {
      "name": "python3-azureml"
    },
    "nteract": {
      "version": "nteract-front-end@1.0.0"
    }
  },
  "nbformat": 4,
  "nbformat_minor": 2
}